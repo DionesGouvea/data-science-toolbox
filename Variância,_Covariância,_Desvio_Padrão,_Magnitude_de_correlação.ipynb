{
  "nbformat": 4,
  "nbformat_minor": 0,
  "metadata": {
    "colab": {
      "provenance": [],
      "authorship_tag": "ABX9TyPBhhqIVd9dvEHwFdExh5Xn"
    },
    "kernelspec": {
      "name": "python3",
      "display_name": "Python 3"
    },
    "language_info": {
      "name": "python"
    }
  },
  "cells": [
    {
      "cell_type": "markdown",
      "source": [
        "## Variancia e desvio padrão"
      ],
      "metadata": {
        "id": "tqx97iMlb17n"
      }
    },
    {
      "cell_type": "code",
      "execution_count": 3,
      "metadata": {
        "colab": {
          "base_uri": "https://localhost:8080/"
        },
        "id": "UdHd0UwbJKvM",
        "outputId": "65e01141-8b88-4a60-8e05-761cbcfa0825"
      },
      "outputs": [
        {
          "output_type": "stream",
          "name": "stdout",
          "text": [
            "Grupo 1:\n",
            "Variância Amostral: 17.0\n",
            "Desvio Padrão Amostral: 4.123105625617661\n",
            "Variância Populacional: 13.6\n",
            "Desvio Padrão Populacional: 3.687817782917155\n",
            "\n",
            "Grupo 2:\n",
            "Variância Amostral: 12.5\n",
            "Desvio Padrão Amostral: 3.5355339059327378\n",
            "Variância Populacional: 10.0\n",
            "Desvio Padrão Populacional: 3.1622776601683795\n"
          ]
        }
      ],
      "source": [
        "import math\n",
        "\n",
        "def calcular_variancia_amostral(lista):\n",
        "    # Calcula a média dos valores na lista\n",
        "    media = sum(lista) / len(lista)\n",
        "\n",
        "    # Calcula a soma dos quadrados das diferenças entre cada valor e a média\n",
        "    soma_quadrados = sum((x - media) ** 2 for x in lista)\n",
        "\n",
        "    # Calcula a variância amostral dividindo a soma dos quadrados pelo número de elementos menos 1\n",
        "    variancia_amostral = soma_quadrados / (len(lista) - 1)\n",
        "\n",
        "    return variancia_amostral\n",
        "\n",
        "def calcular_variancia_populacional(lista):\n",
        "    # Calcula a média dos valores na lista\n",
        "    media = sum(lista) / len(lista)\n",
        "\n",
        "    # Calcula a soma dos quadrados das diferenças entre cada valor e a média\n",
        "    soma_quadrados = sum((x - media) ** 2 for x in lista)\n",
        "\n",
        "    # Calcula a variância populacional dividindo a soma dos quadrados pelo número de elementos\n",
        "    variancia_populacional = soma_quadrados / len(lista)\n",
        "\n",
        "    return variancia_populacional\n",
        "\n",
        "def calcular_desvio_padrao(variancia):\n",
        "    # Calcula o desvio padrão tomando a raiz quadrada da variância\n",
        "    desvio_padrao = math.sqrt(variancia)\n",
        "\n",
        "    return desvio_padrao\n",
        "\n",
        "# Exemplo de uso\n",
        "grupo1 = [18,20,23,26,28]  # Grupo com maior variabilidade\n",
        "grupo2 = [18,23,23,23,28]  # Grupo com menor variabilidade\n",
        "\n",
        "variancia_amostral_grupo1 = calcular_variancia_amostral(grupo1)\n",
        "variancia_amostral_grupo2 = calcular_variancia_amostral(grupo2)\n",
        "\n",
        "variancia_populacional_grupo1 = calcular_variancia_populacional(grupo1)\n",
        "variancia_populacional_grupo2 = calcular_variancia_populacional(grupo2)\n",
        "\n",
        "desvio_padrao_amostral_grupo1 = calcular_desvio_padrao(variancia_amostral_grupo1)\n",
        "desvio_padrao_amostral_grupo2 = calcular_desvio_padrao(variancia_amostral_grupo2)\n",
        "\n",
        "desvio_padrao_populacional_grupo1 = calcular_desvio_padrao(variancia_populacional_grupo1)\n",
        "desvio_padrao_populacional_grupo2 = calcular_desvio_padrao(variancia_populacional_grupo2)\n",
        "\n",
        "print(\"Grupo 1:\")\n",
        "print(\"Variância Amostral:\", variancia_amostral_grupo1)\n",
        "print(\"Desvio Padrão Amostral:\", desvio_padrao_amostral_grupo1)\n",
        "print(\"Variância Populacional:\", variancia_populacional_grupo1)\n",
        "print(\"Desvio Padrão Populacional:\", desvio_padrao_populacional_grupo1)\n",
        "\n",
        "print(\"\\nGrupo 2:\")\n",
        "print(\"Variância Amostral:\", variancia_amostral_grupo2)\n",
        "print(\"Desvio Padrão Amostral:\", desvio_padrao_amostral_grupo2)\n",
        "print(\"Variância Populacional:\", variancia_populacional_grupo2)\n",
        "print(\"Desvio Padrão Populacional:\", desvio_padrao_populacional_grupo2)\n"
      ]
    },
    {
      "cell_type": "markdown",
      "source": [
        "Explicando o calculo para o **grupo 1** a **media** é 23, sabendo disso posso **subtrair** cada elemento pela **media** e obter a diferença, olhando para o primeiro elemento seria 18-23 = -5, ao fazer isso para todos elementos irei obter numeros positivos e negativos, então tenho que **elevar ao quadrado** para obter um valor positivo. Apos elevar todos as diferenças ao quadrado aplico a **soma** que neste caso vai dar o numero 68 onde finalmente **dividido pelo numero de elementos.**\n",
        "- Padrão amostral divido 68 pelo numero de elementos -1 (N-1)\n",
        "- Padrão Populacional divido 68 pelo numero de elementos.\n",
        "- Desvio Padrão após fazer a divisão aplico a raiz quadrada no valor."
      ],
      "metadata": {
        "id": "ZYt1-L-KY-AM"
      }
    },
    {
      "cell_type": "markdown",
      "source": [
        "## Covariancia"
      ],
      "metadata": {
        "id": "wVdOdNN8b5oL"
      }
    },
    {
      "cell_type": "code",
      "source": [
        "import matplotlib.pyplot as plt\n",
        "\n",
        "def calcular_covariancia(x, y):\n",
        "    # Calcula a média das variáveis x e y\n",
        "    media_x = sum(x) / len(x)\n",
        "    media_y = sum(y) / len(y)\n",
        "\n",
        "    # Calcula a soma dos produtos das diferenças entre x e a média de x, e y e a média de y\n",
        "    soma_produtos = sum((x[i] - media_x) * (y[i] - media_y) for i in range(len(x)))\n",
        "\n",
        "    # Calcula a covariância dividindo a soma dos produtos pelo número de elementos menos 1\n",
        "    covariancia = soma_produtos / (len(x) - 1)\n",
        "\n",
        "    return covariancia\n",
        "\n",
        "# Dados de exemplo\n",
        "x = [1, 2, 3, 4, 5]  # Variável x\n",
        "y = [2, 4, 6, 8, 10]  # Variável y\n",
        "\n",
        "# Cálculo da covariância\n",
        "covariancia = calcular_covariancia(x, y)\n",
        "print(\"Covariância:\", covariancia)\n",
        "\n",
        "# Plotagem do gráfico\n",
        "plt.scatter(x, y)\n",
        "plt.xlabel('Variável x')\n",
        "plt.ylabel('Variável y')\n",
        "plt.title('Gráfico de Dispersão')\n",
        "plt.show()\n"
      ],
      "metadata": {
        "colab": {
          "base_uri": "https://localhost:8080/",
          "height": 489
        },
        "id": "Ps9aYjoaZ_Sd",
        "outputId": "855c91b6-3547-4b04-8ecf-b652845e9487"
      },
      "execution_count": 11,
      "outputs": [
        {
          "output_type": "stream",
          "name": "stdout",
          "text": [
            "Covariância: 5.0\n"
          ]
        },
        {
          "output_type": "display_data",
          "data": {
            "text/plain": [
              "<Figure size 640x480 with 1 Axes>"
            ],
            "image/png": "[encoded data removed]"
          },
          "metadata": {}
        }
      ]
    },
    {
      "cell_type": "markdown",
      "source": [
        "Para calcular a covariancia também utilizamos a **diferença da media pela amostra**, porem **multiplicamos esta diferença** entre as **duas variaveis** por exemplo a diferença da primeira amostra de X pela media seria 1-3 = -2 quando olhamos para primeira amostra de y seria 2-6 = -4 ao multiplicar esses valores teremos 8, basta fazer o mesmo para todas as amostras e **somar** o **resultado das multiplicações** e **dividir pelo numero de elementos -1** para se obter a **covariancia.**\n",
        "\n",
        "- Assim como a variância, a covariância pode ser amostral ou populacional, e as formas como se calcula cada uma delas é diferente;\n",
        "\n",
        "- A covariância pode indicar se a associação entre duas variáveis é positiva ou negativa. No caso em que a covariância é positiva, quando uma das variáveis tem seu valor crescente a outra também terá (os valores crescem juntos). No caso em que a covariância é negativa, quando uma das variáveis tem seu valor crescente, a outra terá seu valor decrescente - e vice versa.\n",
        "\n",
        "- A covariância mede se a associação entre duas variáveis é positiva ou negativa, mas ela não mede a magnitude dessa associação."
      ],
      "metadata": {
        "id": "nVg-APi4gVNK"
      }
    },
    {
      "cell_type": "markdown",
      "source": [
        "## Coeficiente da correlação de Pearson, Calculando a magnetude da correlação."
      ],
      "metadata": {
        "id": "Ma88AuBXlSFe"
      }
    },
    {
      "cell_type": "code",
      "source": [
        "def calcular_covariancia(x, y):\n",
        "    # Calcula a média das variáveis x e y\n",
        "    media_x = sum(x) / len(x)\n",
        "    media_y = sum(y) / len(y)\n",
        "\n",
        "    # Calcula a soma dos produtos das diferenças entre x e a média de x, e y e a média de y\n",
        "    soma_produtos = sum((x[i] - media_x) * (y[i] - media_y) for i in range(len(x)))\n",
        "\n",
        "    # Calcula a covariância dividindo a soma dos produtos pelo número de elementos menos 1\n",
        "    covariancia = soma_produtos / (len(x) - 1)\n",
        "\n",
        "    return covariancia\n",
        "\n",
        "\n",
        "def calcular_variancia_amostral(lista):\n",
        "    # Calcula a média dos valores na lista\n",
        "    media = sum(lista) / len(lista)\n",
        "\n",
        "    # Calcula a soma dos quadrados das diferenças entre cada valor e a média\n",
        "    soma_quadrados = sum((x - media) ** 2 for x in lista)\n",
        "\n",
        "    # Calcula a variância amostral dividindo a soma dos quadrados pelo número de elementos menos 1\n",
        "    variancia_amostral = soma_quadrados / (len(lista) - 1)\n",
        "\n",
        "    return variancia_amostral\n",
        "\n",
        "def calcular_desvio_padrao(variancia):\n",
        "    # Calcula o desvio padrão tomando a raiz quadrada da variância\n",
        "    desvio_padrao = math.sqrt(variancia)\n",
        "\n",
        "    return desvio_padrao\n",
        "\n",
        "\n",
        "\n",
        "# Dados de exemplo\n",
        "x = [28,33,35,40,43]  # Variável x\n",
        "y = [79,83,95,98,102]  # Variável y\n",
        "\n",
        "# Cálculo da covariância\n",
        "covariancia = calcular_covariancia(x, y)\n",
        "\n",
        "# Calculando a variancia de X e Y\n",
        "variancia_x = calcular_variancia_amostral(x)\n",
        "variancia_y = calcular_variancia_amostral(y)\n",
        "\n",
        "# Cálculo do desvio padrão de x e y\n",
        "desvio_padrao_x = calcular_desvio_padrao(variancia_x)\n",
        "desvio_padrao_y = calcular_desvio_padrao(variancia_y)\n",
        "\n",
        "# Cálculo do desvio padrão conjunto\n",
        "desvio_padrao_conjunto = desvio_padrao_x * desvio_padrao_y\n",
        "\n",
        "# Cálculo do coeficiente de correlação de Pearson\n",
        "coeficiente_correlacao = covariancia / desvio_padrao_conjunto\n",
        "\n",
        "print(\"Coeficiente de Correlação de Pearson:\", coeficiente_correlacao)\n"
      ],
      "metadata": {
        "colab": {
          "base_uri": "https://localhost:8080/"
        },
        "id": "M9gSggE3mgS_",
        "outputId": "b9ec8335-b65f-4822-e65f-9f1c65f99bc8"
      },
      "execution_count": 13,
      "outputs": [
        {
          "output_type": "stream",
          "name": "stdout",
          "text": [
            "Coeficiente de Correlação de Pearson: 0.9477114526518858\n"
          ]
        }
      ]
    },
    {
      "cell_type": "markdown",
      "source": [
        "Para calcular a Magnute da correlação usando pearson, fazemos o calculo do desvio padrão de cada grupo obtemos o produto do desvio padrão dos grupos, X*Y e dividimos a covariancia pelo produto do desvio padrão de X e Y.\n",
        "\n",
        "- O coeficiente de correlação de Pearson é um valor que varia entre -1 e 1. A magnitude desse coeficiente indica a força e a direção da relação entre as variáveis. Aqui estão algumas interpretações comuns:\n",
        "\n",
        "- Se o coeficiente de correlação for próximo de 1, indica uma correlação positiva forte. Isso significa que as variáveis estão positivamente relacionadas e tendem a aumentar juntas.\n",
        "- Se o coeficiente de correlação for próximo de -1, indica uma correlação negativa forte. Isso significa que as variáveis estão inversamente relacionadas e tendem a se mover em direções opostas.\n",
        "- Se o coeficiente de correlação for próximo de 0, indica uma correlação fraca ou nula. Isso significa que não há uma relação linear forte entre as variáveis.\n",
        "Além da magnitude, a direção do coeficiente de correlação indica a natureza da relação. Um valor positivo indica uma relação direta, enquanto um valor negativo indica uma relação inversa.\n",
        "\n",
        "No exemplo acima, a covariância é positiva, indicando uma relação linear positiva entre as variáveis x e y. Portanto, esperamos que o coeficiente de correlação de Pearson seja próximo de 1, indicando uma correlação positiva forte."
      ],
      "metadata": {
        "id": "V-JCYxuKpq_5"
      }
    },
    {
      "cell_type": "code",
      "source": [],
      "metadata": {
        "id": "pxIe5tsHphqs"
      },
      "execution_count": null,
      "outputs": []
    }
  ]
}